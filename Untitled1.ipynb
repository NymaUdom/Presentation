{
 "cells": [
  {
   "cell_type": "markdown",
   "id": "a3801fc0",
   "metadata": {},
   "source": [
    "# Hello Groupie\n",
    "I'm very exited to share the littel I've learned with you all."
   ]
  },
  {
   "cell_type": "markdown",
   "id": "f9fe6bd4",
   "metadata": {},
   "source": [
    "## First of all\n",
    "I am very thankful to Mr. Dallan for a rear opportunity he has given us all to get paid while learning which I truly appreciate, I know we all do."
   ]
  },
  {
   "cell_type": "code",
   "execution_count": null,
   "id": "038beb2d",
   "metadata": {},
   "outputs": [],
   "source": []
  },
  {
   "cell_type": "code",
   "execution_count": null,
   "id": "61dcf1ea",
   "metadata": {},
   "outputs": [],
   "source": []
  }
 ],
 "metadata": {
  "kernelspec": {
   "display_name": "presentations",
   "language": "python",
   "name": "presentations"
  },
  "language_info": {
   "codemirror_mode": {
    "name": "ipython",
    "version": 3
   },
   "file_extension": ".py",
   "mimetype": "text/x-python",
   "name": "python",
   "nbconvert_exporter": "python",
   "pygments_lexer": "ipython3",
   "version": "3.11.4"
  }
 },
 "nbformat": 4,
 "nbformat_minor": 5
}
