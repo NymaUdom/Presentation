{
 "cells": [
  {
   "cell_type": "markdown",
   "id": "e7ba9f60",
   "metadata": {
    "slideshow": {
     "slide_type": "slide"
    }
   },
   "source": [
    "# Hello Groupie\n",
    "\n",
    "**I'm very exited to share the little I've learned with you all.**"
   ]
  },
  {
   "cell_type": "markdown",
   "id": "2ca0db32",
   "metadata": {
    "slideshow": {
     "slide_type": "slide"
    }
   },
   "source": [
    "## First of all\n",
    "**I am very thankful to Mr. Dallan for a rare opportunity he has given us all to get paid while learning which I truly appreciate, I know we all do.**"
   ]
  },
  {
   "cell_type": "markdown",
   "id": "bb5549a8",
   "metadata": {
    "slideshow": {
     "slide_type": "slide"
    }
   },
   "source": [
    "# This is where it all started\n",
    "**I got a text from Mr. Dallan in the mist of my fraustration trying to get admission to BYU so I was really in doubt if I'll make it through the struggle to finally get admitted.\n",
    "Mr. Dallan reaching me with the intern offer however gave me the extra push I needed to make sure the admission came through.**"
   ]
  },
  {
   "cell_type": "markdown",
   "id": "b8e8121d",
   "metadata": {
    "scrolled": true,
    "slideshow": {
     "slide_type": "slide"
    }
   },
   "source": [
    "**I am a person full of self doubt in my ability to learn and comprehend espicially in a new environment.**\n",
    "**As much as I have the above tendencies, I settle down really good once I get comfortable and know my basics.**"
   ]
  },
  {
   "cell_type": "markdown",
   "id": "6b2a54d2",
   "metadata": {
    "slideshow": {
     "slide_type": "slide"
    }
   },
   "source": [
    "# The Journey So Far"
   ]
  },
  {
   "cell_type": "markdown",
   "id": "78593786",
   "metadata": {
    "slideshow": {
     "slide_type": "slide"
    }
   },
   "source": [
    "**As a web programming fresh student, I've spent the last days learning and setting up my programming environment with various tools like WSL, Ubuntu, VS Code, and Jupyter Notebook. Here's a summary of what I've learned:**"
   ]
  },
  {
   "cell_type": "markdown",
   "id": "3f245a33",
   "metadata": {
    "slideshow": {
     "slide_type": "slide"
    }
   },
   "source": [
    "**Learned about WSL, a compatibility layer for running Linux binary executables natively on Windows.\n",
    "Installed WSL on my Windows machine to enable Linux functionality.**\n",
    "\n",
    "**Installed Ubuntu distribution from Microsoft Store using WSL.\n",
    "Configured the basic settings of Ubuntu and set up a username and password.**\n",
    "\n"
   ]
  },
  {
   "cell_type": "markdown",
   "id": "a4b18987",
   "metadata": {
    "slideshow": {
     "slide_type": "slide"
    }
   },
   "source": [
    "**Explored the Ubuntu terminal and learned basic commands like navigating directories, creating, copying, and moving files.**\n",
    "\n",
    "**Learned how to update the package repository and install software using apt-get command. Installed essential tools like Git and Python.**"
   ]
  },
  {
   "cell_type": "markdown",
   "id": "ab9d19f6",
   "metadata": {
    "slideshow": {
     "slide_type": "slide"
    }
   },
   "source": [
    "\n",
    "**Learned about version control, Git, and GitHub.\n",
    "Created a GitHub account and initialized a local Git repository for a sample project.**\n",
    "\n",
    "**Installed Jupyter Notebook on Ubuntu using pip.\n",
    "Created and ran Python notebooks to experiment with code and documentation.**"
   ]
  },
  {
   "cell_type": "markdown",
   "id": "863efcdf",
   "metadata": {
    "slideshow": {
     "slide_type": "slide"
    }
   },
   "source": [
    "# And Finally\n",
    "\n",
    "### Prompt Engineering.\n",
    "\n",
    "**I'm absolutely thrilled to share what I've learned about prompt engineering in web development! It's truly a fascinating concept that has the potential to revolutionize how we interact with and create software.**\n",
    "\n"
   ]
  },
  {
   "cell_type": "markdown",
   "id": "5e31f882",
   "metadata": {
    "slideshow": {
     "slide_type": "slide"
    }
   },
   "source": [
    "**Prompt engineering, as I understand it, is the art and science of crafting effective prompts or instructions for natural language models like GPT-3.5. These prompts serve as input to the model and guide its behavior to generate desired outputs. The power of prompt engineering lies in its ability to extract the desired information or responses from the model by formulating prompts in a strategic and precise manner.**"
   ]
  },
  {
   "cell_type": "markdown",
   "id": "de1864d4",
   "metadata": {
    "slideshow": {
     "slide_type": "slide"
    }
   },
   "source": [
    "# In Conclusion\n",
    "\n",
    "\n",
    "**Throughout these few days, I've gained a foundational understanding of WSL, Ubuntu, VS Code, Jupyter Notebook, Git, and basic web development tools. I'm excited to continue learning while expanding my knowledge and ability. to everyone of you who has been my source of help and strenght I say a big thank you to you all.**"
   ]
  },
  {
   "cell_type": "code",
   "execution_count": null,
   "id": "4ead8e75",
   "metadata": {},
   "outputs": [],
   "source": []
  }
 ],
 "metadata": {
  "celltoolbar": "Slideshow",
  "kernelspec": {
   "display_name": "presentations",
   "language": "python",
   "name": "presentations"
  },
  "language_info": {
   "codemirror_mode": {
    "name": "ipython",
    "version": 3
   },
   "file_extension": ".py",
   "mimetype": "text/x-python",
   "name": "python",
   "nbconvert_exporter": "python",
   "pygments_lexer": "ipython3",
   "version": "3.11.4"
  }
 },
 "nbformat": 4,
 "nbformat_minor": 5
}
